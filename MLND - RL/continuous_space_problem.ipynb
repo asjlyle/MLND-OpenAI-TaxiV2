{
 "cells": [
  {
   "cell_type": "code",
   "execution_count": 1,
   "metadata": {},
   "outputs": [
    {
     "name": "stderr",
     "output_type": "stream",
     "text": [
      "Using TensorFlow backend.\n"
     ]
    }
   ],
   "source": [
    "import random\n",
    "import gym\n",
    "import numpy as np\n",
    "from collections import deque\n",
    "from keras.models import Sequential\n",
    "from keras.layers import Dense\n",
    "from keras.optimizers import Adam"
   ]
  },
  {
   "cell_type": "code",
   "execution_count": 2,
   "metadata": {},
   "outputs": [],
   "source": [
    "EPISODES = 1000"
   ]
  },
  {
   "cell_type": "code",
   "execution_count": 3,
   "metadata": {},
   "outputs": [],
   "source": [
    "class DQNAgent:\n",
    "    def __init__(self,state_size,action_size):\n",
    "        self.state_size=state_size\n",
    "        self.action_size=action_size\n",
    "        self.memory = deque(maxlen=2000)\n",
    "        self.gamma=0.95 #discount rate\n",
    "        self.epsilon = 1.0 #exploration rate\n",
    "        self.epsilon_min = 0.01\n",
    "        self.epsilon_decay=0.995\n",
    "        self.learning_rate= 0.001\n",
    "        self.model = self._build_model()\n",
    "        \n",
    "    def _build_model(self):\n",
    "        model=Sequential()\n",
    "        model.add(Dense(24,input_dim = self.state_size, activation='relu'))\n",
    "        model.add(Dense(24,activation='relu'))\n",
    "        model.add(Dense(self.action_size,activation='linear')) #output layer of number of actions that can be taken i.e left or right\n",
    "        model.compile(loss='mse',optimizer=Adam(lr=self.learning_rate))\n",
    "        return model\n",
    "\n",
    "    def remember(self, state, action, reward, next_state, done):\n",
    "            self.memory.append((state, action, reward, next_state, done))\n",
    "\n",
    "    def act(self,state,explore=True):\n",
    "        if explore and np.random.rand()<= self.epsilon:\n",
    "                    return random.randrange(self.action_size) #randomly decide an action\n",
    "        act_values = self.model.predict(state) #predict using the network which will give back the expected reward of all actions\n",
    "        return np.argmax(act_values[0]) #returns action\n",
    "\n",
    "    def replay(self,batch_size):\n",
    "        #take a sample of a random subset of all states remembered\n",
    "        minibatch = random.sample(self.memory,batch_size)\n",
    "        for state,action, reward, next_state,done in minibatch:\n",
    "            target=reward\n",
    "            #compute the reward and future expected reward as the target value\n",
    "            if not done:\n",
    "                target = (reward + self.gamma * np.amax(self.model.predict(next_state)[0]))\n",
    "            #force training of only the single action\n",
    "            #by setting the target for all other actions\n",
    "            #as the same value the network produced\n",
    "            target_f = self.model.predict(state)\n",
    "            #and set the action we want to train to the real value\n",
    "            target_f[0][action] = target\n",
    "            self.model.fit(state,target_f,epochs=1,verbose=0)\n",
    "            if self.epsilon > self.epsilon_min:\n",
    "                self.epsilon *= self.epsilon_decay"
   ]
  },
  {
   "cell_type": "code",
   "execution_count": 4,
   "metadata": {},
   "outputs": [],
   "source": [
    "def load(self,name):\n",
    "        delf.model.load_weights(name)"
   ]
  },
  {
   "cell_type": "code",
   "execution_count": null,
   "metadata": {},
   "outputs": [],
   "source": [
    "if __name__==\"__main__\":\n",
    "    env=gym.make('CartPole-v1')\n",
    "    #get state size\n",
    "    state_size=env.observation_space.shape[0]\n",
    "    #get action size\n",
    "    action_size=env.action_space.n\n",
    "    #print(state_size),print(action_size)\n",
    "    agent=DQNAgent(state_size,action_size)\n",
    "    #agent.load(\"cartpole-dqn.h5\")\n",
    "    done=False\n",
    "    batch_size=32\n",
    "    \n",
    "    for e in range(EPISODES):\n",
    "        #reset the environment to get the initial state\n",
    "        state=env.reset()\n",
    "        state=np.reshape(state,[1,state_size])\n",
    "        for time in range(500):\n",
    "            #render visual\n",
    "            env.render()\n",
    "            #user the action value that either explores or chooses the best action\n",
    "            action = agent.act(state,True)\n",
    "            #take the action and get the values of the environment\n",
    "            next_state,reward,done,_ = env.step(action)\n",
    "            #get the state in the format that the network prefers\n",
    "            next_state=np.reshape(next_state,[1,state_size])\n",
    "            #remember what happened to retrain later\n",
    "            agent.remember(state,action,reward,next_state,done)\n",
    "            state=next_state\n",
    "            #if done print information about the ultimate score\n",
    "            if done:\n",
    "                print(\"episode: {}/{}, score: {}, e: {:2}\".format(e,EPISODES,time,agent.epsilon))\n",
    "                break\n",
    "            #if there are 32 or more examples in the memory then replace\n",
    "            if len(agent.memory)>batch_size:\n",
    "                agent.replay(batch_size)\n",
    "                "
   ]
  },
  {
   "cell_type": "code",
   "execution_count": 9,
   "metadata": {},
   "outputs": [
    {
     "name": "stdout",
     "output_type": "stream",
     "text": [
      "[ 0.00498662 -0.00867378  0.01053037  0.02939508]\n"
     ]
    }
   ],
   "source": [
    "state=env.reset()\n",
    "print(state)"
   ]
  },
  {
   "cell_type": "code",
   "execution_count": 13,
   "metadata": {},
   "outputs": [
    {
     "ename": "AttributeError",
     "evalue": "type object 'DQNAgent' has no attribute 'model'",
     "output_type": "error",
     "traceback": [
      "\u001b[0;31m---------------------------------------------------------------------------\u001b[0m",
      "\u001b[0;31mAttributeError\u001b[0m                            Traceback (most recent call last)",
      "\u001b[0;32m<ipython-input-13-c90b4050f7d0>\u001b[0m in \u001b[0;36m<module>\u001b[0;34m()\u001b[0m\n\u001b[0;32m----> 1\u001b[0;31m \u001b[0mact_values\u001b[0m \u001b[0;34m=\u001b[0m \u001b[0mDQNAgent\u001b[0m\u001b[0;34m.\u001b[0m\u001b[0mmodel\u001b[0m\u001b[0;34m.\u001b[0m\u001b[0mpredict\u001b[0m\u001b[0;34m(\u001b[0m\u001b[0mstate\u001b[0m\u001b[0;34m)\u001b[0m\u001b[0;34m\u001b[0m\u001b[0m\n\u001b[0m",
      "\u001b[0;31mAttributeError\u001b[0m: type object 'DQNAgent' has no attribute 'model'"
     ]
    }
   ],
   "source": [
    "act_values = DQNAgent.model.predict(state)"
   ]
  },
  {
   "cell_type": "code",
   "execution_count": null,
   "metadata": {},
   "outputs": [],
   "source": [
    "np.reshape(state,[1,state_size])"
   ]
  },
  {
   "cell_type": "code",
   "execution_count": null,
   "metadata": {},
   "outputs": [],
   "source": []
  },
  {
   "cell_type": "code",
   "execution_count": null,
   "metadata": {},
   "outputs": [],
   "source": []
  }
 ],
 "metadata": {
  "kernelspec": {
   "display_name": "Python 3",
   "language": "python",
   "name": "python3"
  },
  "language_info": {
   "codemirror_mode": {
    "name": "ipython",
    "version": 3
   },
   "file_extension": ".py",
   "mimetype": "text/x-python",
   "name": "python",
   "nbconvert_exporter": "python",
   "pygments_lexer": "ipython3",
   "version": "3.6.3"
  }
 },
 "nbformat": 4,
 "nbformat_minor": 2
}
